{
 "cells": [
  {
   "cell_type": "code",
   "execution_count": null,
   "id": "bee7265b",
   "metadata": {},
   "outputs": [
    {
     "name": "stdout",
     "output_type": "stream",
     "text": [
      "{'mean': [[3.0, 4.0, 5.0], [1.0, 4.0, 7.0], 4.0], 'variance': [[6.0, 6.0, 6.0], [0.6666666666666666, 0.6666666666666666, 0.6666666666666666], 6.666666666666667], 'standard deviation': [[2.449489742783178, 2.449489742783178, 2.449489742783178], [0.816496580927726, 0.816496580927726, 0.816496580927726], 2.581988897471611], 'max': [[6, 7, 8], [2, 5, 8], 8], 'min': [[0, 1, 2], [0, 3, 6], 0], 'sum': [[9, 12, 15], [3, 12, 21], 36]}\n"
     ]
    }
   ],
   "source": [
    "import numpy as np\n",
    "\n",
    "def calculate(list_of_numbers):\n",
    "    if len(list_of_numbers) != 9:\n",
    "        raise ValueError(\"List must contain nine numbers.\")\n",
    "    \n",
    "    matrix = np.array(list_of_numbers).reshape(3, 3)\n",
    "\n",
    "    calculations = {\n",
    "        'mean': [\n",
    "            matrix.mean(axis=0).tolist(),\n",
    "            matrix.mean(axis=1).tolist(),\n",
    "            matrix.mean().item()\n",
    "        ],\n",
    "        'variance': [\n",
    "            matrix.var(axis=0).tolist(),\n",
    "            matrix.var(axis=1).tolist(),\n",
    "            matrix.var().item()\n",
    "        ],\n",
    "        'standard deviation': [\n",
    "            matrix.std(axis=0).tolist(),\n",
    "            matrix.std(axis=1).tolist(),\n",
    "            matrix.std().item()\n",
    "        ],\n",
    "        'max': [\n",
    "            matrix.max(axis=0).tolist(),\n",
    "            matrix.max(axis=1).tolist(),\n",
    "            matrix.max().item()\n",
    "        ],\n",
    "        'min': [\n",
    "            matrix.min(axis=0).tolist(),\n",
    "            matrix.min(axis=1).tolist(),\n",
    "            matrix.min().item()\n",
    "        ],\n",
    "        'sum': [\n",
    "            matrix.sum(axis=0).tolist(),\n",
    "            matrix.sum(axis=1).tolist(),\n",
    "            matrix.sum().item()\n",
    "        ]\n",
    "    }\n",
    "\n",
    "    return calculations\n",
    "\n",
    "\n",
    "\n",
    "if __name__ == \"__main__\":\n",
    "    result = calculate([0,1,2,3,4,5,6,7,8])\n",
    "    print(result)\n",
    "\n"
   ]
  }
 ],
 "metadata": {
  "kernelspec": {
   "display_name": "Python 3",
   "language": "python",
   "name": "python3"
  },
  "language_info": {
   "codemirror_mode": {
    "name": "ipython",
    "version": 3
   },
   "file_extension": ".py",
   "mimetype": "text/x-python",
   "name": "python",
   "nbconvert_exporter": "python",
   "pygments_lexer": "ipython3",
   "version": "3.13.3"
  }
 },
 "nbformat": 4,
 "nbformat_minor": 5
}
